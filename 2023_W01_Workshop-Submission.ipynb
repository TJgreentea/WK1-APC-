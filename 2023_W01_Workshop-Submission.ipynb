{
 "cells": [
  {
   "cell_type": "markdown",
   "id": "0ddd53e3",
   "metadata": {},
   "source": [
    "# COMP SCI 1015 IAP - W01 - Workshop submission"
   ]
  },
  {
   "cell_type": "markdown",
   "id": "1b247126",
   "metadata": {},
   "source": [
    "## Submission Exercise\n",
    "This is your first workshop submission. Please write the code that print out `The computer says \"Hello World!\"`."
   ]
  },
  {
   "cell_type": "markdown",
   "id": "2da89a2e",
   "metadata": {},
   "source": [
    "<!-- BEGIN QUESTION -->\n",
    "\n"
   ]
  },
  {
   "cell_type": "code",
   "execution_count": 4,
   "id": "884321f4",
   "metadata": {
    "tags": []
   },
   "outputs": [
    {
     "name": "stdout",
     "output_type": "stream",
     "text": [
      "HELLO,WORLD\n"
     ]
    }
   ],
   "source": [
    "# INSERT YOUR CODE BELOW\n",
    "print(\"HELLO,WORLD\");"
   ]
  },
  {
   "cell_type": "markdown",
   "id": "f01aae0e",
   "metadata": {},
   "source": [
    "<!-- END QUESTION -->\n",
    "\n",
    "## <font color='red'>Remember to submit your work to Gradescope and sign out with yout tutor before leaving the session.</font>"
   ]
  },
  {
   "cell_type": "code",
   "execution_count": null,
   "id": "51297108",
   "metadata": {},
   "outputs": [],
   "source": []
  },
  {
   "cell_type": "code",
   "execution_count": null,
   "id": "3f58d528",
   "metadata": {},
   "outputs": [],
   "source": []
  }
 ],
 "metadata": {
  "kernelspec": {
   "display_name": "Python 3 (ipykernel)",
   "language": "python",
   "name": "python3"
  },
  "language_info": {
   "codemirror_mode": {
    "name": "ipython",
    "version": 3
   },
   "file_extension": ".py",
   "mimetype": "text/x-python",
   "name": "python",
   "nbconvert_exporter": "python",
   "pygments_lexer": "ipython3",
   "version": "3.11.3"
  },
  "otter": {
   "tests": {
    "Task1": {
     "name": "Task1",
     "points": 100,
     "suites": [
      {
       "cases": [
        {
         "code": ">>> out = get_print_output(); # retrieves the print output.\n>>> reset_print_output(); # Resets the print output.\n>>> 'Hello World' in out\nTrue",
         "failure_message": "Incorrect answer, try again!",
         "hidden": false,
         "locked": false,
         "points": 100,
         "success_message": "Good job!"
        }
       ],
       "scored": true,
       "setup": "",
       "teardown": "",
       "type": "doctest"
      }
     ]
    }
   }
  },
  "vscode": {
   "interpreter": {
    "hash": "d57c152add3a77aa406b6a31edc12b55f0062050fedadc6ea5d152b48566b0e5"
   }
  }
 },
 "nbformat": 4,
 "nbformat_minor": 5
}
